{
 "cells": [
  {
   "cell_type": "code",
   "execution_count": null,
   "id": "973d0e93",
   "metadata": {},
   "outputs": [],
   "source": [
    "import pandas as pd\n",
    "import numpy as np\n",
    "import matplotlib.pyplot as plt\n",
    "import seaborn as sns\n",
    "from scipy import stats\n",
    "import os\n",
    "from windrose import WindroseAxes\n",
    "import matplotlib.dates as mdates\n",
    "sns.set(style=\"whitegrid\")\n",
    "df = pd.read_csv(\"../data/raw/togo-dapaong_qc.csv\")\n",
    "df['Timestamp'] = pd.to_datetime(df['Timestamp'])\n",
    "df.set_index('Timestamp', inplace=True)\n",
    "df.head()"
   ]
  },
  {
   "cell_type": "code",
   "execution_count": null,
   "id": "6c6543db",
   "metadata": {},
   "outputs": [],
   "source": [
    "print(\"Summary Statistics:\")\n",
    "print(df.describe())\n",
    "print(\"\\nMissing Values:\")\n",
    "missing = df.isna().sum()\n",
    "print(missing)\n",
    "total_rows = len(df)\n",
    "print(\"\\nColumns with >5% Missing Values:\")\n",
    "print(missing[missing > 0.05 * total_rows])"
   ]
  },
  {
   "cell_type": "code",
   "execution_count": null,
   "id": "bf78c5c7",
   "metadata": {},
   "outputs": [],
   "source": [
    "key_cols = ['GHI', 'DNI', 'DHI', 'ModA', 'ModB', 'WS', 'WSgust']\n",
    "z_scores = df[key_cols].apply(lambda x: np.abs(stats.zscore(x, nan_policy='omit')))\n",
    "outliers = (z_scores > 3).any(axis=1)\n",
    "print(f\"Number of rows with outliers (|Z|>3): {outliers.sum()}\")\n",
    "for col in key_cols:\n",
    "    df[col] = df[col].fillna(df[col].median())\n",
    "print(\"\\nMissing Values After Imputation:\")\n",
    "print(df[key_cols].isna().sum())\n",
    "os.makedirs('../data/processed', exist_ok=True)\n",
    "df.to_csv('../data/processed/benin-malanville_clean.csv', index=True)\n",
    "print(\"Cleaned DataFrame exported to ../data/processed/sierraleone-bumbuna_clean.csv\")"
   ]
  },
  {
   "cell_type": "code",
   "execution_count": null,
   "id": "18b9ec3d",
   "metadata": {},
   "outputs": [],
   "source": [
    "plt.figure(figsize=(12, 6))\n",
    "plt.plot(df.index, df['GHI'], label='GHI (Viridis)', color='purple') \n",
    "plt.plot(df.index, df['DNI'], label='DNI (Plasma)', color='orange')  \n",
    "plt.plot(df.index, df['DHI'], label='DHI (Magma)', color='red')      \n",
    "plt.plot(df.index, df['Tamb'], label='Tamb (Cividis)', color='blue') \n",
    "plt.xlabel('Timestamp')\n",
    "plt.ylabel('Value')\n",
    "plt.title('Time Series of GHI, DNI, DHI, and Tamb')\n",
    "plt.legend(title=\"Variables & Colorbars\")\n",
    "plt.show()\n",
    "df_monthly = df.resample('M').mean()\n",
    "plt.figure(figsize=(12, 6))\n",
    "plt.plot(df_monthly.index, df_monthly['GHI'], label='GHI (Viridis)', color='purple')\n",
    "plt.plot(df_monthly.index, df_monthly['Tamb'], label='Tamb (Cividis)', color='blue')\n",
    "plt.xlabel('Month')\n",
    "plt.ylabel('Average Value')\n",
    "plt.title('Monthly Average GHI and Tamb')\n",
    "plt.legend(title=\"Variables & Colorbars\")\n",
    "plt.show()"
   ]
  },
  {
   "cell_type": "code",
   "execution_count": null,
   "id": "5093b471",
   "metadata": {},
   "outputs": [],
   "source": [
    "cleaning_impact = df.groupby('Cleaning')[['ModA', 'ModB']].mean()\n",
    "ax = cleaning_impact.plot(kind='bar', figsize=(8, 5), color=['teal', 'coral'], edgecolor='black')\n",
    "plt.title('Average ModA and ModB Pre/Post Cleaning')\n",
    "plt.xlabel('Cleaning (0 = No, 1 = Yes)')\n",
    "plt.ylabel('Average Value')\n",
    "plt.legend(labels=['ModA (Teal)', 'ModB (Coral)'], title=\"Variables & Colors\")\n",
    "plt.show()"
   ]
  },
  {
   "cell_type": "code",
   "execution_count": null,
   "id": "4f9c4586",
   "metadata": {},
   "outputs": [],
   "source": [
    "corr_cols = ['GHI', 'DNI', 'DHI', 'TModA', 'TModB']\n",
    "plt.figure(figsize=(8, 6))\n",
    "sns.heatmap(df[corr_cols].corr(), annot=True, cmap='inferno', vmin=-1, vmax=1)\n",
    "plt.title('Correlation Heatmap (Inferno Colorbar)')\n",
    "plt.show()\n",
    "plt.figure(figsize=(12, 4))\n",
    "plt.subplot(1, 3, 1)\n",
    "sns.scatterplot(x='WS', y='GHI', data=df, color='forestgreen', label='WS vs GHI (Forest Green)')\n",
    "plt.legend(title=\"Plot & Color\")\n",
    "plt.title('WS vs GHI')\n",
    "plt.subplot(1, 3, 2)\n",
    "sns.scatterplot(x='WSgust', y='GHI', data=df, color='darkorchid', label='WSgust vs GHI (Dark Orchid)')\n",
    "plt.legend(title=\"Plot & Color\")\n",
    "plt.title('WSgust vs GHI')\n",
    "plt.subplot(1, 3, 3)\n",
    "sns.scatterplot(x='WD', y='GHI', data=df, color='crimson', label='WD vs GHI (Crimson)')\n",
    "plt.legend(title=\"Plot & Color\")\n",
    "plt.title('WD vs GHI')\n",
    "plt.tight_layout()\n",
    "plt.show()\n",
    "plt.figure(figsize=(8, 4))\n",
    "plt.subplot(1, 2, 1)\n",
    "sns.scatterplot(x='RH', y='Tamb', data=df, color='navy', label='RH vs Tamb (Navy)')\n",
    "plt.legend(title=\"Plot & Color\")\n",
    "plt.title('RH vs Tamb')\n",
    "plt.subplot(1, 2, 2)\n",
    "sns.scatterplot(x='RH', y='GHI', data=df, color='goldenrod', label='RH vs GHI (Goldenrod)')\n",
    "plt.legend(title=\"Plot & Color\")\n",
    "plt.title('RH vs GHI')\n",
    "plt.tight_layout()\n",
    "plt.show()"
   ]
  },
  {
   "cell_type": "code",
   "execution_count": null,
   "id": "2341d4ed",
   "metadata": {},
   "outputs": [],
   "source": [
    "plt.figure(figsize=(8, 8))\n",
    "ax = WindroseAxes.from_ax()\n",
    "ax.bar(df['WD'], df['WS'], normed=True, opening=0.8, edgecolor='white', cmap=plt.cm.viridis)\n",
    "ax.set_legend(title=\"Wind Speed (m/s) & Viridis Colorbar\", loc=\"center left\", bbox_to_anchor=(1, 0.5))\n",
    "plt.title('Wind Rose: WS vs WD')\n",
    "plt.show()\n",
    "plt.figure(figsize=(12, 4))\n",
    "plt.subplot(1, 2, 1)\n",
    "sns.histplot(df['GHI'], bins=30, kde=True, color='skyblue', label='GHI (Sky Blue)')\n",
    "plt.legend(title=\"Variable & Color\")\n",
    "plt.title('Histogram of GHI')\n",
    "plt.subplot(1, 2, 2)\n",
    "sns.histplot(df['WS'], bins=30, kde=True, color='salmon', label='WS (Salmon)')\n",
    "plt.legend(title=\"Variable & Color\")\n",
    "plt.title('Histogram of WS')\n",
    "plt.tight_layout()\n",
    "plt.show()"
   ]
  },
  {
   "cell_type": "code",
   "execution_count": null,
   "id": "f10424cb",
   "metadata": {},
   "outputs": [],
   "source": [
    "plt.figure(figsize=(12, 4))\n",
    "plt.subplot(1, 2, 1)\n",
    "sns.scatterplot(x='RH', y='Tamb', data=df, color='darkgreen', label='RH vs Tamb (Dark Green)')\n",
    "plt.legend(title=\"Plot & Color\")\n",
    "plt.title('RH vs Tamb')\n",
    "plt.subplot(1, 2, 2)\n",
    "sns.scatterplot(x='RH', y='GHI', data=df, color='darkorange', label='RH vs GHI (Dark Orange)')\n",
    "plt.legend(title=\"Plot & Color\")\n",
    "plt.title('RH vs GHI')\n",
    "plt.tight_layout()\n",
    "plt.show()\n",
    "print(\"Correlation between RH and Tamb:\", df['RH'].corr(df['Tamb']))\n",
    "print(\"Correlation between RH and GHI:\", df['RH'].corr(df['GHI']))"
   ]
  },
  {
   "cell_type": "code",
   "execution_count": null,
   "id": "b025953c",
   "metadata": {},
   "outputs": [],
   "source": [
    "plt.figure(figsize=(10, 6))\n",
    "scatter = plt.scatter(df['Tamb'], df['GHI'], s=df['RH']*10, alpha=0.5, c=df['RH'], cmap='viridis')\n",
    "plt.colorbar(scatter, label='Relative Humidity (Viridis Colorbar)')\n",
    "plt.xlabel('Tamb')\n",
    "plt.ylabel('GHI')\n",
    "plt.title('Bubble Chart: GHI vs Tamb (Bubble Size = RH)')\n",
    "plt.legend(labels=['Data Points (Viridis)'], title=\"Data & Colorbar\")\n",
    "plt.show()"
   ]
  }
 ],
 "metadata": {
  "language_info": {
   "name": "python"
  }
 },
 "nbformat": 4,
 "nbformat_minor": 5
}
